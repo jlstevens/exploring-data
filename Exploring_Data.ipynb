{
 "cells": [
  {
   "cell_type": "markdown",
   "metadata": {},
   "source": [
    "# Exploring Data in Notebooks\n",
    "\n",
    "The two most common types of data encountered in typical data science workflows are tabular (columnar) datasets and raster (array) data. In the Python ecosystem, the former type of data has gradually standardized around the pandas [DataFrame API](https://pandas.pydata.org/pandas-docs/stable/reference/api/pandas.DataFrame.html) while raster data has standarized around the [NumPy API](https://numpy.org/).\n",
    "\n",
    "Examples of libraries offering `DataFrame` style objects include [Dask](https://dask.org/), [Rapids](https://rapids.ai/), [GeoPandas](https:geopandas.org/), [Streamz](https://streamz.readthedocs.io/) and of course [Pandas](https:pandas.pydata.org) itself. For array data, you can use [XArray](http://xarray.pydata.org/) to specify labelled multidimensional arrays or [NumPy](https://numpy.org/) ndarrays.\n",
    "\n",
    "This notebook is available as part of an `anaconda project` archive that you can download [here](https://anaconda.org/jlstevens/project/exploring-data). If you extract the archive, you will also find a notebook called `Reproducibly_Capturing_Code.ipynb` which details the steps needed to set up the  environment necessary to run this notebook. More information can be found in the *Capturing your Python code as a reproducible, deployable project* companion talk.\n",
    "\n",
    "In this notebook, we will see how [hvplot](https://hvplot.holoviz.org/) allows you to visualize data in all these various formats using a `.plot` style API inspired by [pandas](https://pandas.pydata.org/). Our first step is therefore to take a look at some simple examples of what you can do with `.plot` on a pandas `DataFrame` without `hvplot`, starting with a pandas import:"
   ]
  },
  {
   "cell_type": "code",
   "execution_count": null,
   "metadata": {},
   "outputs": [],
   "source": [
    "import pandas as pd"
   ]
  },
  {
   "cell_type": "markdown",
   "metadata": {},
   "source": [
    "The data we will examine lists the number of [cases of measles and pertussis](http://graphics.wsj.com/infectious-diseases-and-vaccines/#b02g20t20w15) (per 100,000 people) over time in each US state from 1928 to 2011:\n"
   ]
  },
  {
   "cell_type": "code",
   "execution_count": null,
   "metadata": {},
   "outputs": [],
   "source": [
    "df = pd.read_csv('diseases.csv.gz')\n",
    "df.head()"
   ]
  },
  {
   "cell_type": "markdown",
   "metadata": {},
   "source": [
    "The `DataFrame` named `df` has a `.plot` method we can simply call after running the `%matplotlib inline` notebook magic:"
   ]
  },
  {
   "cell_type": "code",
   "execution_count": null,
   "metadata": {},
   "outputs": [],
   "source": [
    "%matplotlib inline\n",
    "df.plot();"
   ]
  },
  {
   "cell_type": "markdown",
   "metadata": {},
   "source": [
    "At this point we can note two things about the plot above:\n",
    "\n",
    "* This plot is rendered as a static image with [matplotlib](https://matplotlib.org/) which means it is not interactive.\n",
    "* Without any specification from the user, the `.plot` call renders a plot that displays all the available data but this plot is hard to interpret.\n",
    "\n",
    "Using the `numpy.sum` function, we can build a new `DataFrame` indexed by `'Year'` that has a `'measles'` column that is the aggregate over that year:"
   ]
  },
  {
   "cell_type": "code",
   "execution_count": null,
   "metadata": {},
   "outputs": [],
   "source": [
    "import numpy as np\n",
    "\n",
    "by_year = df[[\"Year\",\"measles\"]].groupby(\"Year\").aggregate(np.sum)\n",
    "by_year.head()"
   ]
  },
  {
   "cell_type": "markdown",
   "metadata": {},
   "source": [
    "Calling `.plot()` on this `DataFrame` results in a more easily interpretable plot:"
   ]
  },
  {
   "cell_type": "code",
   "execution_count": null,
   "metadata": {},
   "outputs": [],
   "source": [
    "by_year.plot();"
   ]
  },
  {
   "cell_type": "markdown",
   "metadata": {},
   "source": [
    "So why use `hvplot`? \n",
    "\n",
    "Let us now import `hvplot.pandas` which gives our `DataFrame` objects a new `.hvplot` method which we can call:"
   ]
  },
  {
   "cell_type": "code",
   "execution_count": null,
   "metadata": {},
   "outputs": [],
   "source": [
    "import hvplot.pandas # adds hvplot method to pandas objects\n",
    "\n",
    "by_year.hvplot()"
   ]
  },
  {
   "cell_type": "markdown",
   "metadata": {},
   "source": [
    "Immediately, we can note the following differences from `.plot`:\n",
    "\n",
    "* The plot is not rendered with Matplotlib but with [Bokeh](https://bokeh.org/) instead.\n",
    "* The plot is now interactive: by selecting the various tools available on the toolbar (on the right), you can now pan, box zoom, mouse zoom, save, reset and hover the data respectively.\n",
    "* The last tool (hover) in particular gives you a new view on your data, allowing you to see the exact values on the curve without having to read the values off the axes."
   ]
  },
  {
   "cell_type": "markdown",
   "metadata": {},
   "source": [
    "# Interpreting and composing plots\n",
    "\n",
    "Looking at the plot above, we note that the incidence of measles used to be higher in the past and has dropped to nearly zero since the year 1980. What caused this change?\n",
    "\n",
    "With a little research, we may learn that in [1963 a measles vaccine became widely available](https://www.cdc.gov/measles/about/history.html) which brought cases down to negligible levels. This is knowledge that is relevant to this plot and is something that would be useful to annotated explicitly on top of the plot.\n",
    "\n",
    "In this section, we will see how this is easy to achieve using the [HoloViews](http://holoviews.org/) objects returned by `.hvplot`:"
   ]
  },
  {
   "cell_type": "code",
   "execution_count": null,
   "metadata": {},
   "outputs": [],
   "source": [
    "hvplot_obj = by_year.hvplot()\n",
    "hvplot_obj"
   ]
  },
  {
   "cell_type": "markdown",
   "metadata": {},
   "source": [
    "We can look at the textual representation of `hvplot_obj` by printing it:"
   ]
  },
  {
   "cell_type": "code",
   "execution_count": null,
   "metadata": {},
   "outputs": [],
   "source": [
    "print(hvplot_obj)"
   ]
  },
  {
   "cell_type": "markdown",
   "metadata": {},
   "source": [
    "Now we see that this is a HoloViews [`Curve`](http://holoviews.org/reference/elements/bokeh/Curve.html) object described in the reference guide [here](http://holoviews.org/reference/elements/bokeh/Curve.html). This object (like all HoloViews objects) is *not a plot* but an object that contains your data, with a rich visual representation. We can see this by looking at the `.data` attribute:"
   ]
  },
  {
   "cell_type": "code",
   "execution_count": null,
   "metadata": {},
   "outputs": [],
   "source": [
    "hvplot_obj.data"
   ]
  },
  {
   "cell_type": "markdown",
   "metadata": {},
   "source": [
    "This object can also compose with other HoloViews objects to build rich visualizations. We can see this by importing HoloViews and creating a [`VLine`](http://holoviews.org/reference/elements/bokeh/VLine.html) and a [`Text`](http://holoviews.org/reference/elements/bokeh/Text.html) object:"
   ]
  },
  {
   "cell_type": "code",
   "execution_count": null,
   "metadata": {},
   "outputs": [],
   "source": [
    "import holoviews as hv\n",
    "\n",
    "vline = hv.VLine(1963).opts(color='black')\n",
    "text = hv.Text(1963, 27000, \" Vaccine introduced\", halign='left')"
   ]
  },
  {
   "cell_type": "markdown",
   "metadata": {},
   "source": [
    "You can now overlay these on top of the original `hvplot_obj` using the `*` operator, creating a HoloViews [`Overlay`](http://holoviews.org/reference/containers/bokeh/Overlay.html):"
   ]
  },
  {
   "cell_type": "code",
   "execution_count": null,
   "metadata": {},
   "outputs": [],
   "source": [
    "composite = hvplot_obj * vline * text\n",
    "composite"
   ]
  },
  {
   "cell_type": "markdown",
   "metadata": {},
   "source": [
    "We now have an interactive (pannable, zoomable, hoverable) plot with annotations!\n",
    "\n",
    "To inspect the textual representation of this composite object, we can print it:"
   ]
  },
  {
   "cell_type": "code",
   "execution_count": null,
   "metadata": {},
   "outputs": [],
   "source": [
    "print(composite)"
   ]
  },
  {
   "cell_type": "markdown",
   "metadata": {},
   "source": [
    "We can now say that we are viewing an overlay consisting of a `Curve`, a `VLine` and some `Text`."
   ]
  },
  {
   "cell_type": "markdown",
   "metadata": {},
   "source": [
    "# Interactivity with widgets\n",
    "\n",
    "The interactive tools offered by [Bokeh](https://bokeh.org/) are one compelling reason to use `hvplot`, but the `hvplot` method offers additional levels of interactivity by generating widgets.\n",
    "\n",
    "To illustrate, let's make a new `DataFrame` that aggregates the measle incidence by `'Year'` while preserving the breakdown by `'State'`:"
   ]
  },
  {
   "cell_type": "code",
   "execution_count": null,
   "metadata": {},
   "outputs": [],
   "source": [
    "measles_agg = df.groupby(['Year', 'State'])['measles'].sum()\n",
    "measles_agg "
   ]
  },
  {
   "cell_type": "markdown",
   "metadata": {},
   "source": [
    "Now we can call `hvplot` to generate a plot over `'Year'` while grouping by `'State'`. The specification of a column to group by results in a dropdown widget by state:"
   ]
  },
  {
   "cell_type": "code",
   "execution_count": null,
   "metadata": {},
   "outputs": [],
   "source": [
    "by_state = measles_agg.hvplot('Year', groupby='State', width=600)\n",
    "by_state * vline"
   ]
  },
  {
   "cell_type": "markdown",
   "metadata": {},
   "source": [
    "Note that you can now view the data for each state while retaining the ability to pan, zoom and hover the plot. In addition, we have the `VLine` marking the point at which the 1963 measles vaccine was introduced."
   ]
  },
  {
   "cell_type": "markdown",
   "metadata": {},
   "source": [
    "# Plotting large data with `hvplot`\n",
    "\n",
    "So far, the examples have shown how `.hvplot` differs from `.plot` for regular Pandas `DataFrames`. In this example, we will see how `.hvplot` can be used to visualize large volumes of data in [Dask](https://dask.org/) dataframes.\n",
    "\n",
    "First let's import the `airline_flights` sample data from `hvplot`, convert it to a Dask `DataFrame` and view the `.tail` of it:"
   ]
  },
  {
   "cell_type": "code",
   "execution_count": null,
   "metadata": {},
   "outputs": [],
   "source": [
    "from hvplot.sample_data import airline_flights\n",
    "flights = airline_flights.to_dask().persist()\n",
    "flights.tail()"
   ]
  },
  {
   "cell_type": "markdown",
   "metadata": {},
   "source": [
    "Note that there are 918204 rows in this dataframe! Plotting all these entries (e.g as a scatter plot) is likely to be a slow and memory intensive operation that may well crash the browser tab. We will now see how `hvplot` is able to quickly and efficiently plot all this data regardless.\n",
    "\n",
    "Now we need to import `hvplot.dask` to give our Dask array a `.hvplot` method:"
   ]
  },
  {
   "cell_type": "code",
   "execution_count": null,
   "metadata": {},
   "outputs": [],
   "source": [
    "import hvplot.dask"
   ]
  },
  {
   "cell_type": "markdown",
   "metadata": {},
   "source": [
    "We can call the `hvplot.scatter` method to generate a HoloViews [`Scatter`](http://holoviews.org/reference/elements/bokeh/Scatter.html) object (which we will not display the normal way due to the size of the data!)"
   ]
  },
  {
   "cell_type": "code",
   "execution_count": null,
   "metadata": {},
   "outputs": [],
   "source": [
    "scatter = flights.hvplot.scatter(x='distance', y='airtime')\n",
    "print(scatter)"
   ]
  },
  {
   "cell_type": "markdown",
   "metadata": {},
   "source": [
    "Displaying this object normally is risky as it would involve plotting 918204 with Bokeh. However, we can quickly and safely plot it by adding the `datashade=True` keyword:"
   ]
  },
  {
   "cell_type": "code",
   "execution_count": null,
   "metadata": {},
   "outputs": [],
   "source": [
    "flights.hvplot.scatter(x='distance', y='airtime', datashade=True)"
   ]
  },
  {
   "cell_type": "markdown",
   "metadata": {},
   "source": [
    "Note that this example is still interactively pannable and zoomable!\n",
    "\n",
    "This is possible due to the use of [datashader](https://datashader.org/) which is a fast rasterizer: our `Scatter` object is rapidly rendered by datshader to an image that is sent to the browser by the Python process. This minimizes the load on the browser by only pushing the image data to the client instead of all 918204 points."
   ]
  },
  {
   "cell_type": "markdown",
   "metadata": {},
   "source": [
    "# Plotting raster data with `hvplot`\n",
    "\n",
    "So far, all the plots in this notebook have been generated from `DataFrame` style objects. This section shows that `hvplot` can be used to visualize raster data, specifically large [Xarray](http://xarray.pydata.org) datasets.\n",
    "\n",
    "First we import `xarray` and enable `hvplot` support by importing `hvplot.xarray`:"
   ]
  },
  {
   "cell_type": "code",
   "execution_count": null,
   "metadata": {},
   "outputs": [],
   "source": [
    "import xarray as xr\n",
    "import hvplot.xarray"
   ]
  },
  {
   "cell_type": "markdown",
   "metadata": {},
   "source": [
    "Next we load one of the large sample dataset that shops with `xarray`:"
   ]
  },
  {
   "cell_type": "code",
   "execution_count": null,
   "metadata": {},
   "outputs": [],
   "source": [
    "air_ds = xr.tutorial.open_dataset('air_temperature').load()\n",
    "air = air_ds.air\n",
    "'Air temperature data has {dims} as dimensions and a shape of {shape}'.format(dims=air.dims, shape=air.shape)"
   ]
  },
  {
   "cell_type": "markdown",
   "metadata": {},
   "source": [
    "We can now call `hvplot.scatter` to plot this entire dataset over time, remembering to set `datashade=True`:"
   ]
  },
  {
   "cell_type": "code",
   "execution_count": null,
   "metadata": {},
   "outputs": [],
   "source": [
    "temp_scatter = air.hvplot.scatter('time', groupby=[], datashade=True)\n",
    "temp_scatter"
   ]
  },
  {
   "cell_type": "markdown",
   "metadata": {},
   "source": [
    "Next we can use the `.mean` method on our xarray `DataArray` to average the data over latitude and longitude before plotting it over time with `hvplot.line`:"
   ]
  },
  {
   "cell_type": "code",
   "execution_count": null,
   "metadata": {},
   "outputs": [],
   "source": [
    "temp_mean = air.mean(['lat', 'lon']).hvplot.line('time', color='indianred')\n",
    "temp_mean"
   ]
  },
  {
   "cell_type": "markdown",
   "metadata": {},
   "source": [
    "Finally we can use `*` to easily overlay these two plots:"
   ]
  },
  {
   "cell_type": "code",
   "execution_count": null,
   "metadata": {},
   "outputs": [],
   "source": [
    "temp_scatter * temp_mean"
   ]
  },
  {
   "cell_type": "markdown",
   "metadata": {},
   "source": [
    "# Next steps\n",
    "\n",
    "\n",
    "This notebook only scratches the surface of what you can do with `hvplot`: you can visualize streaming data using the [`streamz`](https://streamz.readthedocs.io/) library, build dashboards using [Panel](https://panel.pyviz.org/), generated linked selection plots using [HoloViews](http://holoviews.org/) and much more. You can find many of these topics covered in the `hvplot` [User Guide](https://hvplot.holoviz.org/user_guide/index.html).\n",
    "\n",
    "Lastly, if you have any problems [running this project](https://anaconda.org/jlstevens/project/exploring-data), you can consult the `Reproducibly_Capturing_Code.ipynb` notebook which also has a talk (*Capturing your Python code as a reproducible, deployable project*) describing how to reproducibly capture a project such as this one, together with its files, an associated environment and the corresponding commands for execution."
   ]
  }
 ],
 "metadata": {
  "kernelspec": {
   "display_name": "Python 3",
   "language": "python",
   "name": "python3"
  },
  "language_info": {
   "codemirror_mode": {
    "name": "ipython",
    "version": 3
   },
   "file_extension": ".py",
   "mimetype": "text/x-python",
   "name": "python",
   "nbconvert_exporter": "python",
   "pygments_lexer": "ipython3",
   "version": "3.8.5"
  }
 },
 "nbformat": 4,
 "nbformat_minor": 4
}
